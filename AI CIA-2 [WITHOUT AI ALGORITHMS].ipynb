{
 "cells": [
  {
   "cell_type": "code",
   "execution_count": null,
   "id": "e49a082a",
   "metadata": {},
   "outputs": [],
   "source": [
    "num=int(input(\"How many 4-letter prompts will you enter : \"))\n",
    "a=[]\n",
    "for i in range(num):\n",
    "    string=input(\"Enter the prompt : \")\n",
    "    a.append(string)\n",
    "print(a)\n",
    "\n",
    "f=[]\n",
    "new=[]\n",
    "for i in range(2,num-1):\n",
    "    print(\"comparing : \", a[i-1],\"and\", a[i])\n",
    "    print(\"we get : \")\n",
    "    if a[i-1]==a[i]:\n",
    "        print(a[i])\n",
    "        f.append(a[i])\n",
    "    elif a[i-1][1:4]==a[i][0:3]:\n",
    "        print(a[i][0:3])\n",
    "        f.append(a[i][0:3])\n",
    "    elif a[i-1][2:4]==a[i][0:2]:\n",
    "        print(a[i][0:2])\n",
    "        f.append(a[i][0:2])\n",
    "    elif a[i-1][3:4]==a[i][0:1]:\n",
    "        print(a[i][0:1])\n",
    "        f.append(a[i[0:1]])\n",
    "    else:\n",
    "        new.append(a[i-1])\n",
    "        new.append(a[i])\n",
    "    print(\"\\n\")\n",
    "\n",
    "    \n",
    "print(new)  \n",
    "final=''.join(f)\n",
    "print(a[0]+final+a[num-1])    \n",
    "\n"
   ]
  }
 ],
 "metadata": {
  "kernelspec": {
   "display_name": "Python 3 (ipykernel)",
   "language": "python",
   "name": "python3"
  },
  "language_info": {
   "codemirror_mode": {
    "name": "ipython",
    "version": 3
   },
   "file_extension": ".py",
   "mimetype": "text/x-python",
   "name": "python",
   "nbconvert_exporter": "python",
   "pygments_lexer": "ipython3",
   "version": "3.9.5"
  }
 },
 "nbformat": 4,
 "nbformat_minor": 5
}
